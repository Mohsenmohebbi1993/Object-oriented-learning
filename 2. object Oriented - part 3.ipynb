{
 "cells": [
  {
   "cell_type": "markdown",
   "id": "70ab4a2b",
   "metadata": {},
   "source": [
    "### Object Oriented or OOP\n",
    "1. class  \n",
    "\n"
   ]
  },
  {
   "cell_type": "markdown",
   "id": "1aefebe7",
   "metadata": {},
   "source": [
    "class\n",
    "calss : It has two property ( a and b ) and 3 method ( set_var, add , mul)"
   ]
  },
  {
   "cell_type": "code",
   "execution_count": 6,
   "id": "6c0e9194",
   "metadata": {},
   "outputs": [],
   "source": [
    "class Test:\n",
    "    def set_var(self, a, b):\n",
    "        self.a = a\n",
    "        self.b = b\n",
    "\n",
    "    def add (self):\n",
    "        return self.a + self.b\n",
    "    \n",
    "    def mul (self):\n",
    "        return self.a * self.b"
   ]
  },
  {
   "cell_type": "markdown",
   "id": "ae407e77",
   "metadata": {},
   "source": [
    "add Object"
   ]
  },
  {
   "cell_type": "code",
   "execution_count": 11,
   "id": "fa5575f3",
   "metadata": {},
   "outputs": [
    {
     "name": "stdout",
     "output_type": "stream",
     "text": [
      "print object 2 and 3\n"
     ]
    }
   ],
   "source": [
    "ob1 = Test()\n",
    "ob1.set_var(2,3)\n",
    "print(f\"print object {ob1.a} and {ob1.b}\")"
   ]
  }
 ],
 "metadata": {
  "kernelspec": {
   "display_name": "Python 3",
   "language": "python",
   "name": "python3"
  },
  "language_info": {
   "codemirror_mode": {
    "name": "ipython",
    "version": 3
   },
   "file_extension": ".py",
   "mimetype": "text/x-python",
   "name": "python",
   "nbconvert_exporter": "python",
   "pygments_lexer": "ipython3",
   "version": "3.13.2"
  }
 },
 "nbformat": 4,
 "nbformat_minor": 5
}
