{
 "cells": [
  {
   "cell_type": "markdown",
   "metadata": {},
   "source": [
    "chack name is true or not  \n",
    ".isidentifier() show the name is true or not"
   ]
  },
  {
   "cell_type": "code",
   "execution_count": 1,
   "metadata": {},
   "outputs": [
    {
     "name": "stdout",
     "output_type": "stream",
     "text": [
      "False\n",
      "True\n",
      "False\n",
      "False\n"
     ]
    }
   ],
   "source": [
    "print(\"2a\".isidentifier())\n",
    "print(\"a2\".isidentifier())\n",
    "print(\"a-3\".isidentifier())\n",
    "print(\"a_(1)\".isidentifier())"
   ]
  },
  {
   "cell_type": "markdown",
   "metadata": {},
   "source": [
    "The name is keyword or not"
   ]
  },
  {
   "cell_type": "code",
   "execution_count": 2,
   "metadata": {},
   "outputs": [
    {
     "name": "stdout",
     "output_type": "stream",
     "text": [
      "True\n",
      "False\n"
     ]
    }
   ],
   "source": [
    "from keyword import iskeyword\n",
    "print(iskeyword(\"if\"))\n",
    "print(iskeyword(\"on\"))"
   ]
  },
  {
   "cell_type": "markdown",
   "metadata": {},
   "source": [
    "Assign y value to x and x value to y"
   ]
  },
  {
   "cell_type": "code",
   "execution_count": 3,
   "metadata": {},
   "outputs": [
    {
     "name": "stdout",
     "output_type": "stream",
     "text": [
      "x = 100,  y = 2\n"
     ]
    }
   ],
   "source": [
    "x = 2\n",
    "y = 100\n",
    "x , y = y , x\n",
    "print (f\"x = {x},  y = {y}\")"
   ]
  },
  {
   "cell_type": "markdown",
   "metadata": {},
   "source": [
    "Conditional Expression"
   ]
  },
  {
   "cell_type": "code",
   "execution_count": 4,
   "metadata": {},
   "outputs": [
    {
     "name": "stdout",
     "output_type": "stream",
     "text": [
      "10\n"
     ]
    }
   ],
   "source": [
    "a = 10\n",
    "b = 12\n",
    "m = a if a < b else b\n",
    "print(m)"
   ]
  },
  {
   "cell_type": "markdown",
   "metadata": {},
   "source": [
    "Math lib"
   ]
  },
  {
   "cell_type": "code",
   "execution_count": 5,
   "metadata": {},
   "outputs": [
    {
     "name": "stdout",
     "output_type": "stream",
     "text": [
      "4.0\n",
      "4\n",
      "6\n",
      "4.0\n",
      "1.0\n",
      "5.0\n",
      "16.0\n",
      "3.141592653589793\n"
     ]
    }
   ],
   "source": [
    "import math\n",
    "print( math.sqrt(16))      # 4.0\n",
    "print( math.trunc(4.3))    # 4\n",
    "print( math.factorial(3))  # 6\n",
    "print( math.log2(16))      # 4.0\n",
    "print( math.fmod(17,2))    # 1.0\n",
    "print( math.fabs(-5))      # 5.0\n",
    "print( math.pow(2,4))      # 16.0\n",
    "print( math.pi)            # 3.141592653589793"
   ]
  },
  {
   "cell_type": "markdown",
   "metadata": {},
   "source": [
    "Random and DateTime lib"
   ]
  },
  {
   "cell_type": "code",
   "execution_count": 15,
   "metadata": {},
   "outputs": [
    {
     "name": "stdout",
     "output_type": "stream",
     "text": [
      "# random #\n",
      "7\n",
      "1\n",
      "# datetime #\n",
      "2025-03-11 13:17:59.125749\n"
     ]
    }
   ],
   "source": [
    "print('# random #')\n",
    "import random\n",
    "print( random.randint(1, 10))  \n",
    "print( random.choice([1,10]))  \n",
    "\n",
    "\n",
    "print('# datetime #')\n",
    "import datetime\n",
    "now = datetime.datetime.now()\n",
    "print(now)                 # 2020-05-20 03:20:13.384938"
   ]
  },
  {
   "cell_type": "markdown",
   "metadata": {},
   "source": [
    "If and elif and else"
   ]
  },
  {
   "cell_type": "code",
   "execution_count": 17,
   "metadata": {},
   "outputs": [
    {
     "name": "stdout",
     "output_type": "stream",
     "text": [
      "B\n"
     ]
    }
   ],
   "source": [
    "score = 83\n",
    "\n",
    "if score > 90:\n",
    "    print(\"A\")\n",
    "elif score > 80:\n",
    "    print(\"B\")\n",
    "elif score > 70:\n",
    "    print(\"C\")\n",
    "else:\n",
    "    print(\"D\")"
   ]
  },
  {
   "cell_type": "markdown",
   "metadata": {},
   "source": [
    "For and while"
   ]
  },
  {
   "cell_type": "code",
   "execution_count": 2,
   "metadata": {},
   "outputs": [
    {
     "name": "stdout",
     "output_type": "stream",
     "text": [
      "0 1 2 3 4 5 6 7 8 9 \n",
      "-----\n",
      "0 1 2 3 4 5 6 7 8 9 "
     ]
    }
   ],
   "source": [
    "for i in range(10):\n",
    "    print(i, end=\" \")\n",
    "print(\"\\n-----\")\n",
    "j = 0\n",
    "while j < 10:\n",
    "    print(j ,end=\" \")\n",
    "    j+=1\n"
   ]
  },
  {
   "cell_type": "code",
   "execution_count": 4,
   "metadata": {},
   "outputs": [
    {
     "name": "stdout",
     "output_type": "stream",
     "text": [
      "1 \n",
      "--\n",
      "1 2 3 \n",
      "------\n",
      "1 2 3 4 5 \n",
      "----------\n",
      "1 2 3 4 5 6 7 \n",
      "--------------\n"
     ]
    }
   ],
   "source": [
    "number = 10\n",
    "for i in range(2,number,2):\n",
    "    for j in range(1,i):\n",
    "        print(j, end=\" \")\n",
    "    print(f\"\\n{\"--\"*j}\")"
   ]
  },
  {
   "cell_type": "code",
   "execution_count": 17,
   "metadata": {},
   "outputs": [
    {
     "name": "stdout",
     "output_type": "stream",
     "text": [
      "0 2 4 6 8 "
     ]
    }
   ],
   "source": [
    "number = 10\n",
    "for i in range(number):\n",
    "    if (i%2)==0:\n",
    "        print(i, end=\" \")\n",
    "    elif i == 8:\n",
    "        break\n",
    "    else:\n",
    "        continue\n"
   ]
  },
  {
   "cell_type": "code",
   "execution_count": 43,
   "metadata": {},
   "outputs": [
    {
     "name": "stdout",
     "output_type": "stream",
     "text": [
      "---------string---------\n",
      "---The word is python---\n",
      "---The number is 128746684---\n",
      "len word = 6\n",
      "is there 'th' in word ? True\n",
      "is lower ? True\n",
      "is alphabet ? True\n",
      "is digit ? False\n",
      "is number ? True\n",
      "find 'o' ? place is 4\n",
      "count 'o' ? count o is  1\n",
      "titel word: Python\n",
      "upper word: PYTHON\n",
      "ljust word: python***\n",
      "startswith word by 'py'?: True\n",
      "replace 'thon' by 'Mohsen' : py_Mohsen\n"
     ]
    }
   ],
   "source": [
    "print(\"---------string---------\")\n",
    "word = \"python\"\n",
    "number = \"128746684\"\n",
    "print(f\"---The word is {word}---\")\n",
    "print(f\"---The number is {number}---\")\n",
    "print(f\"len word = {len(word)}\")\n",
    "print(f\"is there 'th' in word ? {\"th\" in word}\")\n",
    "print(f\"is lower ? {word.islower()}\")\n",
    "print(f\"is alphabet ? {word.isalpha()}\")\n",
    "print(f\"is digit ? {word.isdigit()}\")\n",
    "print(f\"is number ? {number.isdigit()}\")\n",
    "print(f\"find 'o' ? place is {word.find(\"o\")}\")\n",
    "print(f\"count 'o' ? count o is  {word.count(\"o\")}\")\n",
    "print(f\"titel word: {word.title()}\")\n",
    "print(f\"upper word: {word.upper()}\")\n",
    "print(f\"ljust word: {word.ljust(9,\"*\")}\")\n",
    "print(f\"startswith word by 'py'?: {word.startswith(\"py\")}\")\n",
    "print(f\"replace 'thon' by 'Mohsen' : {word.replace(\"thon\",\"_Mohsen\")}\")\n",
    "\n",
    "\n",
    "\n"
   ]
  },
  {
   "cell_type": "code",
   "execution_count": 56,
   "metadata": {},
   "outputs": [
    {
     "name": "stdout",
     "output_type": "stream",
     "text": [
      "print word : $python_$$_A_$$\n",
      "strip $ : python_$$_A_\n",
      "print sentence : I am Mohsen Mohebbi\n",
      "split by ' ' : ['I', 'am', 'Mohsen', 'Mohebbi']\n",
      "new_sentence by join = I am Mohsen Mohebbi\n"
     ]
    }
   ],
   "source": [
    "word = \"$python_$$_A_$$\"\n",
    "print(f\"print word : {word}\")\n",
    "print(f\"strip $ : {word.strip(\"$\")}\")\n",
    "sentence = \"I am Mohsen Mohebbi\"\n",
    "print(f\"print sentence : {sentence}\")\n",
    "print(f\"split by ' ' : {sentence.split(\" \")}\")\n",
    "split_sentence = sentence.split(\" \")\n",
    "print(f\"new_sentence by join = {\" \".join(split_sentence)}\")"
   ]
  }
 ],
 "metadata": {
  "kernelspec": {
   "display_name": "Python 3",
   "language": "python",
   "name": "python3"
  },
  "language_info": {
   "codemirror_mode": {
    "name": "ipython",
    "version": 3
   },
   "file_extension": ".py",
   "mimetype": "text/x-python",
   "name": "python",
   "nbconvert_exporter": "python",
   "pygments_lexer": "ipython3",
   "version": "3.13.2"
  }
 },
 "nbformat": 4,
 "nbformat_minor": 2
}
