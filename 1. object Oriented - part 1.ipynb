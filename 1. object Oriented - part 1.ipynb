{
 "cells": [
  {
   "cell_type": "markdown",
   "metadata": {},
   "source": [
    "chack name is true or not  \n",
    ".isidentifier() show the name is true or not"
   ]
  },
  {
   "cell_type": "code",
   "execution_count": 1,
   "metadata": {},
   "outputs": [
    {
     "name": "stdout",
     "output_type": "stream",
     "text": [
      "False\n",
      "True\n",
      "False\n",
      "False\n"
     ]
    }
   ],
   "source": [
    "print(\"2a\".isidentifier())\n",
    "print(\"a2\".isidentifier())\n",
    "print(\"a-3\".isidentifier())\n",
    "print(\"a_(1)\".isidentifier())"
   ]
  },
  {
   "cell_type": "markdown",
   "metadata": {},
   "source": [
    "The name is keyword or not"
   ]
  },
  {
   "cell_type": "code",
   "execution_count": 2,
   "metadata": {},
   "outputs": [
    {
     "name": "stdout",
     "output_type": "stream",
     "text": [
      "True\n",
      "False\n"
     ]
    }
   ],
   "source": [
    "from keyword import iskeyword\n",
    "print(iskeyword(\"if\"))\n",
    "print(iskeyword(\"on\"))"
   ]
  },
  {
   "cell_type": "markdown",
   "metadata": {},
   "source": [
    "Assign y value to x and x value to y"
   ]
  },
  {
   "cell_type": "code",
   "execution_count": 3,
   "metadata": {},
   "outputs": [
    {
     "name": "stdout",
     "output_type": "stream",
     "text": [
      "x = 100,  y = 2\n"
     ]
    }
   ],
   "source": [
    "x = 2\n",
    "y = 100\n",
    "x , y = y , x\n",
    "print (f\"x = {x},  y = {y}\")"
   ]
  },
  {
   "cell_type": "markdown",
   "metadata": {},
   "source": [
    "Conditional Expression"
   ]
  },
  {
   "cell_type": "code",
   "execution_count": 4,
   "metadata": {},
   "outputs": [
    {
     "name": "stdout",
     "output_type": "stream",
     "text": [
      "10\n"
     ]
    }
   ],
   "source": [
    "a = 10\n",
    "b = 12\n",
    "m = a if a < b else b\n",
    "print(m)"
   ]
  },
  {
   "cell_type": "markdown",
   "metadata": {},
   "source": [
    "Math lib"
   ]
  },
  {
   "cell_type": "code",
   "execution_count": 5,
   "metadata": {},
   "outputs": [
    {
     "name": "stdout",
     "output_type": "stream",
     "text": [
      "4.0\n",
      "4\n",
      "6\n",
      "4.0\n",
      "1.0\n",
      "5.0\n",
      "16.0\n",
      "3.141592653589793\n"
     ]
    }
   ],
   "source": [
    "import math\n",
    "print( math.sqrt(16))      # 4.0\n",
    "print( math.trunc(4.3))    # 4\n",
    "print( math.factorial(3))  # 6\n",
    "print( math.log2(16))      # 4.0\n",
    "print( math.fmod(17,2))    # 1.0\n",
    "print( math.fabs(-5))      # 5.0\n",
    "print( math.pow(2,4))      # 16.0\n",
    "print( math.pi)            # 3.141592653589793"
   ]
  },
  {
   "cell_type": "markdown",
   "metadata": {},
   "source": [
    "Random and DateTime lib"
   ]
  },
  {
   "cell_type": "code",
   "execution_count": 15,
   "metadata": {},
   "outputs": [
    {
     "name": "stdout",
     "output_type": "stream",
     "text": [
      "# random #\n",
      "7\n",
      "1\n",
      "# datetime #\n",
      "2025-03-11 13:17:59.125749\n"
     ]
    }
   ],
   "source": [
    "print('# random #')\n",
    "import random\n",
    "print( random.randint(1, 10))  \n",
    "print( random.choice([1,10]))  \n",
    "\n",
    "\n",
    "print('# datetime #')\n",
    "import datetime\n",
    "now = datetime.datetime.now()\n",
    "print(now)                 # 2020-05-20 03:20:13.384938"
   ]
  },
  {
   "cell_type": "markdown",
   "metadata": {},
   "source": [
    "If and elif and else"
   ]
  },
  {
   "cell_type": "code",
   "execution_count": 17,
   "metadata": {},
   "outputs": [
    {
     "name": "stdout",
     "output_type": "stream",
     "text": [
      "B\n"
     ]
    }
   ],
   "source": [
    "score = 83\n",
    "\n",
    "if score > 90:\n",
    "    print(\"A\")\n",
    "elif score > 80:\n",
    "    print(\"B\")\n",
    "elif score > 70:\n",
    "    print(\"C\")\n",
    "else:\n",
    "    print(\"D\")"
   ]
  },
  {
   "cell_type": "markdown",
   "metadata": {},
   "source": [
    "For and while"
   ]
  },
  {
   "cell_type": "code",
   "execution_count": 2,
   "metadata": {},
   "outputs": [
    {
     "name": "stdout",
     "output_type": "stream",
     "text": [
      "0 1 2 3 4 5 6 7 8 9 \n",
      "-----\n",
      "0 1 2 3 4 5 6 7 8 9 "
     ]
    }
   ],
   "source": [
    "for i in range(10):\n",
    "    print(i, end=\" \")\n",
    "print(\"\\n-----\")\n",
    "j = 0\n",
    "while j < 10:\n",
    "    print(j ,end=\" \")\n",
    "    j+=1\n"
   ]
  },
  {
   "cell_type": "code",
   "execution_count": 4,
   "metadata": {},
   "outputs": [
    {
     "name": "stdout",
     "output_type": "stream",
     "text": [
      "1 \n",
      "--\n",
      "1 2 3 \n",
      "------\n",
      "1 2 3 4 5 \n",
      "----------\n",
      "1 2 3 4 5 6 7 \n",
      "--------------\n"
     ]
    }
   ],
   "source": [
    "number = 10\n",
    "for i in range(2,number,2):\n",
    "    for j in range(1,i):\n",
    "        print(j, end=\" \")\n",
    "    print(f\"\\n{\"--\"*j}\")"
   ]
  },
  {
   "cell_type": "code",
   "execution_count": 17,
   "metadata": {},
   "outputs": [
    {
     "name": "stdout",
     "output_type": "stream",
     "text": [
      "0 2 4 6 8 "
     ]
    }
   ],
   "source": [
    "number = 10\n",
    "for i in range(number):\n",
    "    if (i%2)==0:\n",
    "        print(i, end=\" \")\n",
    "    elif i == 8:\n",
    "        break\n",
    "    else:\n",
    "        continue\n"
   ]
  },
  {
   "cell_type": "markdown",
   "metadata": {},
   "source": [
    "String Function"
   ]
  },
  {
   "cell_type": "code",
   "execution_count": 43,
   "metadata": {},
   "outputs": [
    {
     "name": "stdout",
     "output_type": "stream",
     "text": [
      "---------string---------\n",
      "---The word is python---\n",
      "---The number is 128746684---\n",
      "len word = 6\n",
      "is there 'th' in word ? True\n",
      "is lower ? True\n",
      "is alphabet ? True\n",
      "is digit ? False\n",
      "is number ? True\n",
      "find 'o' ? place is 4\n",
      "count 'o' ? count o is  1\n",
      "titel word: Python\n",
      "upper word: PYTHON\n",
      "ljust word: python***\n",
      "startswith word by 'py'?: True\n",
      "replace 'thon' by 'Mohsen' : py_Mohsen\n"
     ]
    }
   ],
   "source": [
    "print(\"---------string---------\")\n",
    "word = \"python\"\n",
    "number = \"128746684\"\n",
    "print(f\"---The word is {word}---\")\n",
    "print(f\"---The number is {number}---\")\n",
    "print(f\"len word = {len(word)}\")\n",
    "print(f\"is there 'th' in word ? {\"th\" in word}\")\n",
    "print(f\"is lower ? {word.islower()}\")\n",
    "print(f\"is alphabet ? {word.isalpha()}\")\n",
    "print(f\"is digit ? {word.isdigit()}\")\n",
    "print(f\"is number ? {number.isdigit()}\")\n",
    "print(f\"find 'o' ? place is {word.find(\"o\")}\")\n",
    "print(f\"count 'o' ? count o is  {word.count(\"o\")}\")\n",
    "print(f\"titel word: {word.title()}\")\n",
    "print(f\"upper word: {word.upper()}\")\n",
    "print(f\"ljust word: {word.ljust(9,\"*\")}\")\n",
    "print(f\"startswith word by 'py'?: {word.startswith(\"py\")}\")\n",
    "print(f\"replace 'thon' by 'Mohsen' : {word.replace(\"thon\",\"_Mohsen\")}\")\n",
    "\n",
    "\n",
    "\n"
   ]
  },
  {
   "cell_type": "code",
   "execution_count": 56,
   "metadata": {},
   "outputs": [
    {
     "name": "stdout",
     "output_type": "stream",
     "text": [
      "print word : $python_$$_A_$$\n",
      "strip $ : python_$$_A_\n",
      "print sentence : I am Mohsen Mohebbi\n",
      "split by ' ' : ['I', 'am', 'Mohsen', 'Mohebbi']\n",
      "new_sentence by join = I am Mohsen Mohebbi\n"
     ]
    }
   ],
   "source": [
    "word = \"$python_$$_A_$$\"\n",
    "print(f\"print word : {word}\")\n",
    "print(f\"strip $ : {word.strip(\"$\")}\")\n",
    "sentence = \"I am Mohsen Mohebbi\"\n",
    "print(f\"print sentence : {sentence}\")\n",
    "print(f\"split by ' ' : {sentence.split(\" \")}\")\n",
    "split_sentence = sentence.split(\" \")\n",
    "print(f\"new_sentence by join = {\" \".join(split_sentence)}\")"
   ]
  },
  {
   "cell_type": "code",
   "execution_count": 61,
   "metadata": {},
   "outputs": [
    {
     "name": "stdout",
     "output_type": "stream",
     "text": [
      "name python\n",
      "name python\n"
     ]
    }
   ],
   "source": [
    "word = \"python\"\n",
    "print(f\"name {word}\")\n",
    "print(\"name {}\".format(word))\n"
   ]
  },
  {
   "cell_type": "code",
   "execution_count": 4,
   "metadata": {},
   "outputs": [
    {
     "name": "stdout",
     "output_type": "stream",
     "text": [
      "a is 15 and b is 17.9999\n",
      "a is    15 and b is 18.00\n"
     ]
    }
   ],
   "source": [
    "a = 15\n",
    "b = 17.9999\n",
    "print (\"a is {0} and b is {1}\".format(a,b))\n",
    "print(\"a is {:5d} and b is {:.2f}\".format(a,b))"
   ]
  },
  {
   "cell_type": "markdown",
   "metadata": {},
   "source": [
    "List"
   ]
  },
  {
   "cell_type": "code",
   "execution_count": null,
   "metadata": {},
   "outputs": [
    {
     "name": "stdout",
     "output_type": "stream",
     "text": [
      "type a is <class 'list'>\n",
      "len a is 3\n",
      "index 12 is 2\n",
      "number of index 1 is 2\n",
      "change index 1 - 2 by 7 - a[1]=7 and a[1] is 7\n"
     ]
    }
   ],
   "source": [
    "a = [8, 2, 12]\n",
    "print(f\"type a is {type(a)}\")\n",
    "print(f\"len a is {len(a)}\")\n",
    "print(f\"index 12 is {a.index(12)}\")\n",
    "print(f\"number of index 1 is {a[1]}\")\n",
    "a[1] = 7\n",
    "print(f\"change index 1 - 2 by 7 - a[1]=7 and a[1] is {a[1]}\")\n"
   ]
  },
  {
   "cell_type": "code",
   "execution_count": 29,
   "metadata": {},
   "outputs": [
    {
     "name": "stdout",
     "output_type": "stream",
     "text": [
      "---------slicing-----------\n",
      "---list is [13, 5, 30, 8, 6, 25]---\n",
      "a[1:4] = [5, 30, 8]\n",
      "a[:3] = [13, 5, 30]\n",
      "a[3:] = [8, 6, 25]\n",
      "a[::-1] = [25, 6, 8, 30, 5, 13]\n",
      "a[0:7:2] = [13, 30, 6]\n",
      "a[7:0:-2] = [25, 8, 5]\n"
     ]
    }
   ],
   "source": [
    "a = [13, 5, 30, 8, 6, 25]\n",
    "print(\"---------slicing-----------\")\n",
    "print(f\"---list is {a}---\")\n",
    "print(f\"a[1:4] = {a[1:4]}\")\n",
    "print(f\"a[:3] = {a[:3]}\")\n",
    "print(f\"a[3:] = {a[3:]}\")\n",
    "print(f\"a[::-1] = {a[::-1]}\")\n",
    "print(f\"a[0:7:2] = {a[0:7:2]}\")\n",
    "print(f\"a[7:0:-2] = {a[7:0:-2]}\")"
   ]
  },
  {
   "cell_type": "markdown",
   "metadata": {},
   "source": [
    "list and basic mathematical operations "
   ]
  },
  {
   "cell_type": "code",
   "execution_count": 69,
   "metadata": {},
   "outputs": [
    {
     "name": "stdout",
     "output_type": "stream",
     "text": [
      "a is [3, 5] and a*2 is [3, 5, 3, 5]\n",
      "a is [3, 5] and b is ['R', 'g'] and a+b is [3, 5, 'R', 'g']\n",
      "c is [15, 5, 23, 3, 20] and Max c is 23\n",
      "c is [15, 5, 23, 3, 20] and min c is 3\n",
      "c is [15, 5, 23, 3, 20] and count 5 in c is 1\n",
      "c is [15, 5, 23, 3, 20] and sum c is 66\n",
      "c is [15, 5, 8, 23, 3, 20] and inset a number c is [15, 5, 8, 23, 3, 20]\n",
      "c is [15, 5, 23, 3, 20] and remove 8 c is [15, 5, 23, 3, 20]\n",
      "c is [15, 5, 23, 3, 20] and last number in c is 20 and c is [15, 5, 23, 3] remove last number\n",
      "c is [15, 5, 23, 3] and c[1] is 5 in c is 5 and c is [15, 23, 3] remove index 1\n",
      "c is [15, 23, 3] befor del\n",
      "c is [15, 3] and del 8 c is [15, 3]\n"
     ]
    }
   ],
   "source": [
    "a = [3, 5]\n",
    "print(f\"a is {a} and a*2 is {a*2}\")\n",
    "b = [\"R\", \"g\"]\n",
    "print(f\"a is {a} and b is {b} and a+b is {a+b}\")\n",
    "\n",
    "c = [15, 5, 23, 3, 20]\n",
    "print(f\"c is {c} and Max c is {max(c)}\")\n",
    "print(f\"c is {c} and min c is {min(c)}\")\n",
    "print(f\"c is {c} and count 5 in c is {c.count(5)}\")\n",
    "print(f\"c is {c} and sum c is {sum(c)}\")\n",
    "c.insert(2,8)\n",
    "print(f\"c is {c} and inset a number c is {c}\")\n",
    "c.remove(8)\n",
    "print(f\"c is {c} and remove 8 c is {c}\")\n",
    "print(f\"c is {c} and last number in c is {c.pop()} and c is {c} remove last number\")\n",
    "print(f\"c is {c} and c[1] is {c[1]} in c is {c.pop(1)} and c is {c} remove index 1\")\n",
    "print(f\"c is {c} befor del\")\n",
    "del c[1]\n",
    "print(f\"c is {c} and del 8 c is {c}\")\n",
    "\n",
    "\n",
    "\n"
   ]
  },
  {
   "cell_type": "code",
   "execution_count": null,
   "metadata": {},
   "outputs": [
    {
     "name": "stdout",
     "output_type": "stream",
     "text": [
      "--- a is [7, 8, 5, 15, 23]---\n",
      "reverse a is [23, 15, 5, 8, 7]\n",
      "sort [5, 7, 8, 15, 23]\n",
      "append 1000 to list is [5, 7, 8, 15, 23, 1000]\n",
      "append a list to list [5, 7, 8, 15, 23, 1000, ['a', 'b']]\n",
      "append a Members of a list to list [5, 7, 8, 15, 23, 1000, ['a', 'b'], 'a', 'b']\n",
      "clear list's b []\n"
     ]
    }
   ],
   "source": [
    "a = [7, 8, 5, 15, 23]\n",
    "print(f\"--- a is {a}---\")\n",
    "a.reverse()\n",
    "print(f\"reverse a is {a}\")\n",
    "a.sort()\n",
    "print(f\"sort {a}\")\n",
    "a. append(1000)\n",
    "print(f\"append 1000 to list is {a}\")\n",
    "b = [\"a\", \"b\"]\n",
    "a.append(b)\n",
    "print(f\"append a list to list {a}\")\n",
    "a.extend(b)\n",
    "print(f\"append a Members of a list to list {a}\")\n",
    "b.clear()\n",
    "print(f\"clear list's b {b}\")\n",
    "\n",
    "\n"
   ]
  },
  {
   "cell_type": "code",
   "execution_count": 90,
   "metadata": {},
   "outputs": [
    {
     "name": "stdout",
     "output_type": "stream",
     "text": [
      "list a is []\n",
      "list a with append by for [0, 1, 2]\n",
      "other way i for i in range(3) [0, 1, 2]\n"
     ]
    }
   ],
   "source": [
    "a=[]\n",
    "print(f\"list a is {a}\")\n",
    "for i in range(3):\n",
    "    a.append(i)\n",
    "print (f\"list a with append by for {a}\")\n",
    "a=[]\n",
    "a = [i for i in range(3)]\n",
    "print (f\"other way i for i in range(3) {a}\")\n"
   ]
  },
  {
   "cell_type": "markdown",
   "metadata": {},
   "source": [
    "Tupel"
   ]
  },
  {
   "cell_type": "code",
   "execution_count": 5,
   "metadata": {},
   "outputs": [
    {
     "name": "stdout",
     "output_type": "stream",
     "text": [
      "------Tupel is ('english', 'art', 'math')--------\n",
      "type t is <class 'tuple'>\n",
      "len t is 3\n",
      "t[1] is art\n",
      "t[1:3] is ('art', 'math')\n",
      "index atr is 1\n"
     ]
    }
   ],
   "source": [
    "t = (\"english\", \"art\", \"math\")\n",
    "print(f\"------Tupel is {t}--------\")\n",
    "print(f\"type t is {type(t)}\")\n",
    "print(f\"len t is {len(t)}\")\n",
    "print(f\"t[1] is {t[1]}\")\n",
    "print(f\"t[1:3] is {t[1:3]}\")\n",
    "print(f\"index atr is {t.index(\"art\")}\")\n",
    "\n"
   ]
  },
  {
   "cell_type": "code",
   "execution_count": 11,
   "metadata": {},
   "outputs": [
    {
     "name": "stdout",
     "output_type": "stream",
     "text": [
      "tupel is (1, 7, 5)\n",
      "sum is 13\n",
      "Max is 7\n",
      "min is 1\n",
      "count 7 is 1\n",
      "reverse is (5, 7, 1)\n",
      " how to append a number to tuple\n",
      "append 3 to tuple (1, 7, 5, 3)\n"
     ]
    }
   ],
   "source": [
    "t = (1, 7, 5)\n",
    "print(f\"tupel is {t}\")\n",
    "print(f\"sum is {sum(t)}\")\n",
    "print(f\"Max is {max(t)}\")\n",
    "print(f\"min is {min(t)}\")\n",
    "print(f\"count 7 is {t.count(7)}\")\n",
    "print(f\"reverse is {tuple(reversed(t))}\")\n",
    "print(\" how to append a number to tuple\")\n",
    "a = list(t)\n",
    "a.append(3)\n",
    "t = tuple(a)\n",
    "print(f\"append 3 to tuple {t}\")"
   ]
  },
  {
   "cell_type": "code",
   "execution_count": 18,
   "metadata": {},
   "outputs": [
    {
     "name": "stdout",
     "output_type": "stream",
     "text": [
      "zip 2 tupel is [(1, 'a'), (3, 'b')]\n",
      " unzipe is [(1, 3), ('a', 'b')]\n"
     ]
    }
   ],
   "source": [
    "a = (1, 3)\n",
    "b = (\"a\", \"b\")\n",
    "c = zip(a,b)\n",
    "x = list(c)\n",
    "print(f\"zip 2 tupel is {x}\")\n",
    "\n",
    "# unzip\n",
    "u = list(zip(*x))\n",
    "print(f\" unzipe is {u}\")"
   ]
  },
  {
   "cell_type": "markdown",
   "metadata": {},
   "source": [
    "Dictionary"
   ]
  },
  {
   "cell_type": "code",
   "execution_count": 28,
   "metadata": {},
   "outputs": [
    {
     "name": "stdout",
     "output_type": "stream",
     "text": [
      "---dictionary is {'brand': 'b', 'model': 'm', 'color': 'red', 'year': 2025}---\n"
     ]
    }
   ],
   "source": [
    "d = {\n",
    "    \"brand\" : \"b\",\n",
    "     \"model\" : \"m\",\n",
    "     \"color\" : \"red\",\n",
    "     \"year\" : 2025\n",
    "     }\n",
    "# or\n",
    "# d = dict(brand = \"b\", model = \"m\", color = \"red\", year = 2025)\n",
    "\n",
    "print(f\"---dictionary is {d}---\")\n"
   ]
  },
  {
   "cell_type": "code",
   "execution_count": null,
   "metadata": {},
   "outputs": [
    {
     "name": "stdout",
     "output_type": "stream",
     "text": [
      "---dictionary is {'x': 14, 'y': 32, 'z': 11, 'w': 7}---\n",
      "type d is <class 'dict'>\n",
      "len d is 4\n",
      "key is y and value is 32\n",
      "key is y and value is 32\n",
      "list of keys is ['x', 'y', 'z', 'w']\n",
      "liost of values is [14, 32, 11, 7]\n",
      "liost of each items of dic is [('x', 14), ('y', 32), ('z', 11), ('w', 7)]\n",
      "---print key and value in rows---\n",
      "x : 14\n",
      "y : 32\n",
      "z : 11\n",
      "w : 7\n",
      " pop and remove a item (y) -- {'x': 14, 'z': 11, 'w': 7}\n",
      " pop and remove a last item -- {'x': 14, 'z': 11}\n",
      " clear and empty dic -- {}\n",
      " del dic - not found\n",
      "---sort dic by operator lib---\n",
      "sorted dic by values [('w', 7), ('z', 11), ('x', 14), ('y', 32)]\n"
     ]
    }
   ],
   "source": [
    "d = {\"x\": 14,\n",
    "     \"y\": 32,\n",
    "     \"z\":11,\n",
    "     \"w\": 7}\n",
    "\n",
    "print(f\"---dictionary is {d}---\")\n",
    "print(f\"type d is {type(d)}\")\n",
    "print(f\"len d is {len(d)}\")\n",
    "print(f\"key is y and value is {d[\"y\"]}\")\n",
    "print(f\"key is y and value is {d.get(\"y\")}\")\n",
    "print(f\"list of keys is {list(d.keys())}\")\n",
    "print(f\"liost of values is {(list(d.values()))}\")\n",
    "print(f\"liost of each items of dic is {list(d.items())}\")\n",
    "print(\"---print key and value in rows---\")\n",
    "for k,v in d.items():\n",
    "    print(k,\":\",v)\n",
    "\n",
    "d.pop(\"y\")\n",
    "print(f\" pop and remove a item (y) -- {d}\")\n",
    "d.popitem()\n",
    "print(f\" pop and remove a last item -- {d}\")\n",
    "d.clear()\n",
    "print(f\" clear and empty dic -- {d}\")\n",
    "del d\n",
    "print(f\" del dic - not found\")\n",
    "\n",
    "d = {\"x\": 14,\n",
    "     \"y\": 32,\n",
    "     \"z\":11,\n",
    "     \"w\": 7}\n",
    "print(\"---sort dic by operator lib---\")\n",
    "import operator\n",
    "k = operator.itemgetter(1) # setting sort by items = 1 or keys 0\n",
    "print(f\"sorted dic by values {sorted(d.items(),key = k)}\")"
   ]
  }
 ],
 "metadata": {
  "kernelspec": {
   "display_name": "Python 3",
   "language": "python",
   "name": "python3"
  },
  "language_info": {
   "codemirror_mode": {
    "name": "ipython",
    "version": 3
   },
   "file_extension": ".py",
   "mimetype": "text/x-python",
   "name": "python",
   "nbconvert_exporter": "python",
   "pygments_lexer": "ipython3",
   "version": "3.13.2"
  }
 },
 "nbformat": 4,
 "nbformat_minor": 2
}
