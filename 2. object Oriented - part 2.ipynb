{
 "cells": [
  {
   "cell_type": "markdown",
   "id": "ea5d496a",
   "metadata": {},
   "source": [
    "# Part 2 Basic\n",
    "1. Collections   \n"
   ]
  },
  {
   "cell_type": "markdown",
   "id": "7e7a2246",
   "metadata": {},
   "source": [
    "# set"
   ]
  },
  {
   "cell_type": "code",
   "execution_count": 12,
   "id": "b8c171d5",
   "metadata": {},
   "outputs": [
    {
     "name": "stdout",
     "output_type": "stream",
     "text": [
      "set is {'o', 'e', 'i', 'a'}\n",
      "type of S is <class 'set'>\n",
      "len of S is 4\n",
      "u in S ? False\n",
      "add u in S ? {'i', 'o', 'a', 'e', 'u'}\n",
      "add another a to S ? {'i', 'o', 'a', 'e', 'u'} one a is in S\n",
      "remove i in S ? {'o', 'a', 'e', 'u'}\n",
      "make a copy from S : C is {'o', 'e', 'u', 'a'} and S is {'o', 'a', 'e', 'u'} location not important in set\n",
      "C = S ? True\n",
      "x is {1, 5, 8, 9, 10, 12} and y is {8, 10} - Is y intersection x ? {8, 10}\n",
      "x is {1, 5, 8, 9, 10, 12} and y is {8, 10} - Is y & x ? {8, 10}\n",
      "x is {1, 5, 8, 9, 10, 12} and y is {8, 10} - Is y union x ? {1, 5, 8, 9, 10, 12}\n",
      "x is {1, 5, 8, 9, 10, 12} and y is {8, 10} - Is y | x ? {1, 5, 8, 9, 10, 12}\n",
      "x is {1, 5, 8, 9, 10, 12} and y is {8, 10} - Is y difference x ? {1, 12, 5, 9}\n",
      "X is {'M', 'A'} And Y is {'C', 'F', 'A', 'M'} - X issubset Y True\n"
     ]
    }
   ],
   "source": [
    "S = {\"a\", \"e\", \"o\", \"i\"}\n",
    "print(f\"set is {S}\")\n",
    "print(f\"type of S is {type(S)}\")\n",
    "print(f\"len of S is {len(S)}\")\n",
    "print(f\"u in S ? {\"u\" in S}\")\n",
    "S.add(\"u\")\n",
    "print(f\"add u in S ? {S}\")\n",
    "S.add(\"a\")\n",
    "print(f\"add another a to S ? {S} one a is in S\")\n",
    "S.remove(\"i\")\n",
    "print(f\"remove i in S ? {S}\")\n",
    "C = S.copy()\n",
    "print(f\"make a copy from S : C is {C} and S is {S} location not important in set\")\n",
    "print(f\"C = S ? {C == S}\")\n",
    "\n",
    "X = {1, 5,8, 9, 12, 10}\n",
    "Y = {8, 10}\n",
    "print (f\"x is {X} and y is {Y} - Is y intersection x ? {X.intersection(Y)}\")\n",
    "print (f\"x is {X} and y is {Y} - Is y & x ? {X & Y}\")\n",
    "print (f\"x is {X} and y is {Y} - Is y union x ? {X.union(Y)}\")\n",
    "print (f\"x is {X} and y is {Y} - Is y | x ? {X | Y}\")\n",
    "print (f\"x is {X} and y is {Y} - Is y difference x ? {X.difference(Y)}\")\n",
    "\n",
    "X = {'A', 'M'}\n",
    "Y = {'A','C','M','F'}\n",
    "print(f\"X is {X} And Y is {Y} - X issubset Y {X.issubset(Y)}\") \n",
    "\n",
    "\n"
   ]
  }
 ],
 "metadata": {
  "kernelspec": {
   "display_name": "Python 3",
   "language": "python",
   "name": "python3"
  },
  "language_info": {
   "codemirror_mode": {
    "name": "ipython",
    "version": 3
   },
   "file_extension": ".py",
   "mimetype": "text/x-python",
   "name": "python",
   "nbconvert_exporter": "python",
   "pygments_lexer": "ipython3",
   "version": "3.13.2"
  }
 },
 "nbformat": 4,
 "nbformat_minor": 5
}
