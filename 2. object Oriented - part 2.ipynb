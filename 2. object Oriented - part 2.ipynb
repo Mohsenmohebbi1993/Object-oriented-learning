{
 "cells": [
  {
   "cell_type": "markdown",
   "id": "ea5d496a",
   "metadata": {},
   "source": [
    "# Part 2 Basic\n",
    "1. Collections   \n",
    "    set\n",
    "2. Function  \n"
   ]
  },
  {
   "cell_type": "markdown",
   "id": "7e7a2246",
   "metadata": {},
   "source": [
    "# set"
   ]
  },
  {
   "cell_type": "code",
   "execution_count": 12,
   "id": "b8c171d5",
   "metadata": {},
   "outputs": [
    {
     "name": "stdout",
     "output_type": "stream",
     "text": [
      "set is {'o', 'e', 'i', 'a'}\n",
      "type of S is <class 'set'>\n",
      "len of S is 4\n",
      "u in S ? False\n",
      "add u in S ? {'i', 'o', 'a', 'e', 'u'}\n",
      "add another a to S ? {'i', 'o', 'a', 'e', 'u'} one a is in S\n",
      "remove i in S ? {'o', 'a', 'e', 'u'}\n",
      "make a copy from S : C is {'o', 'e', 'u', 'a'} and S is {'o', 'a', 'e', 'u'} location not important in set\n",
      "C = S ? True\n",
      "x is {1, 5, 8, 9, 10, 12} and y is {8, 10} - Is y intersection x ? {8, 10}\n",
      "x is {1, 5, 8, 9, 10, 12} and y is {8, 10} - Is y & x ? {8, 10}\n",
      "x is {1, 5, 8, 9, 10, 12} and y is {8, 10} - Is y union x ? {1, 5, 8, 9, 10, 12}\n",
      "x is {1, 5, 8, 9, 10, 12} and y is {8, 10} - Is y | x ? {1, 5, 8, 9, 10, 12}\n",
      "x is {1, 5, 8, 9, 10, 12} and y is {8, 10} - Is y difference x ? {1, 12, 5, 9}\n",
      "X is {'M', 'A'} And Y is {'C', 'F', 'A', 'M'} - X issubset Y True\n"
     ]
    }
   ],
   "source": [
    "S = {\"a\", \"e\", \"o\", \"i\"}\n",
    "print(f\"set is {S}\")\n",
    "print(f\"type of S is {type(S)}\")\n",
    "print(f\"len of S is {len(S)}\")\n",
    "print(f\"u in S ? {\"u\" in S}\")\n",
    "S.add(\"u\")\n",
    "print(f\"add u in S ? {S}\")\n",
    "S.add(\"a\")\n",
    "print(f\"add another a to S ? {S} one a is in S\")\n",
    "S.remove(\"i\")\n",
    "print(f\"remove i in S ? {S}\")\n",
    "C = S.copy()\n",
    "print(f\"make a copy from S : C is {C} and S is {S} location not important in set\")\n",
    "print(f\"C = S ? {C == S}\")\n",
    "\n",
    "X = {1, 5,8, 9, 12, 10}\n",
    "Y = {8, 10}\n",
    "print (f\"x is {X} and y is {Y} - Is y intersection x ? {X.intersection(Y)}\")\n",
    "print (f\"x is {X} and y is {Y} - Is y & x ? {X & Y}\")\n",
    "print (f\"x is {X} and y is {Y} - Is y union x ? {X.union(Y)}\")\n",
    "print (f\"x is {X} and y is {Y} - Is y | x ? {X | Y}\")\n",
    "print (f\"x is {X} and y is {Y} - Is y difference x ? {X.difference(Y)}\")\n",
    "\n",
    "X = {'A', 'M'}\n",
    "Y = {'A','C','M','F'}\n",
    "print(f\"X is {X} And Y is {Y} - X issubset Y {X.issubset(Y)}\") \n",
    "\n",
    "\n"
   ]
  },
  {
   "cell_type": "markdown",
   "id": "b2d6c788",
   "metadata": {},
   "source": [
    "## Function"
   ]
  },
  {
   "cell_type": "code",
   "execution_count": 44,
   "id": "99df453a",
   "metadata": {},
   "outputs": [
    {
     "name": "stdout",
     "output_type": "stream",
     "text": [
      "def f is\n",
      "Mohsen Mohebbi\n",
      "def f1 is Mohsen Mohebbi\n",
      "MOHSEN\n",
      "f3 Return(min) is 23.9\n",
      "f4 is : 100.81\n"
     ]
    }
   ],
   "source": [
    "def f():\n",
    "    print(\"Mohsen Mohebbi\")\n",
    "\n",
    "\n",
    "def f1():\n",
    "    return\"Mohsen Mohebbi\"\n",
    "\n",
    "print(f\"def f is\")\n",
    "f()\n",
    "print(f\"def f1 is {f1()}\")\n",
    "\n",
    "def f2(name):\n",
    "    print(name)\n",
    "f2(\"MOHSEN\")\n",
    "\n",
    "def f3(x: float, y: float) -> float:\n",
    "    \"\"\"\n",
    "    f3() is max Number  \n",
    "    x : A Number  \n",
    "    y : A number  \n",
    "    return : A number  \n",
    "    \"\"\"\n",
    "    if x < y:\n",
    "        return y\n",
    "    else:\n",
    "        return x\n",
    "print (f\"f3 Return(min) is {f3(8.2,23.9)}\")\n",
    "\n",
    "def f4(x : float, y : float, z : float) -> float:\n",
    "    \"\"\"\n",
    "    Use a Function in Function   \n",
    "    x : A Number  \n",
    "    y : A Number  \n",
    "    z : A Number  \n",
    "    return : Max(x, y , z)  \n",
    "    Fisrt find Max (y, z) and second Max (x, max(y, z))\n",
    "    \"\"\"\n",
    "    return f3(x, f3(y,z))\n",
    "print(f\"f4 is : {f4(20.1, 100.81, 15.3)}\")\n"
   ]
  }
 ],
 "metadata": {
  "kernelspec": {
   "display_name": "Python 3",
   "language": "python",
   "name": "python3"
  },
  "language_info": {
   "codemirror_mode": {
    "name": "ipython",
    "version": 3
   },
   "file_extension": ".py",
   "mimetype": "text/x-python",
   "name": "python",
   "nbconvert_exporter": "python",
   "pygments_lexer": "ipython3",
   "version": "3.13.2"
  }
 },
 "nbformat": 4,
 "nbformat_minor": 5
}
