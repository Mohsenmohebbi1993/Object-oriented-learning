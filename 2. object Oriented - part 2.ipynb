{
 "cells": [
  {
   "cell_type": "markdown",
   "id": "ea5d496a",
   "metadata": {},
   "source": [
    "# Part 2 Basic\n",
    "1. Collections   \n",
    "    set\n",
    "2. Function  \n"
   ]
  },
  {
   "cell_type": "markdown",
   "id": "7e7a2246",
   "metadata": {},
   "source": [
    "# set"
   ]
  },
  {
   "cell_type": "code",
   "execution_count": 12,
   "id": "b8c171d5",
   "metadata": {},
   "outputs": [
    {
     "name": "stdout",
     "output_type": "stream",
     "text": [
      "set is {'o', 'e', 'i', 'a'}\n",
      "type of S is <class 'set'>\n",
      "len of S is 4\n",
      "u in S ? False\n",
      "add u in S ? {'i', 'o', 'a', 'e', 'u'}\n",
      "add another a to S ? {'i', 'o', 'a', 'e', 'u'} one a is in S\n",
      "remove i in S ? {'o', 'a', 'e', 'u'}\n",
      "make a copy from S : C is {'o', 'e', 'u', 'a'} and S is {'o', 'a', 'e', 'u'} location not important in set\n",
      "C = S ? True\n",
      "x is {1, 5, 8, 9, 10, 12} and y is {8, 10} - Is y intersection x ? {8, 10}\n",
      "x is {1, 5, 8, 9, 10, 12} and y is {8, 10} - Is y & x ? {8, 10}\n",
      "x is {1, 5, 8, 9, 10, 12} and y is {8, 10} - Is y union x ? {1, 5, 8, 9, 10, 12}\n",
      "x is {1, 5, 8, 9, 10, 12} and y is {8, 10} - Is y | x ? {1, 5, 8, 9, 10, 12}\n",
      "x is {1, 5, 8, 9, 10, 12} and y is {8, 10} - Is y difference x ? {1, 12, 5, 9}\n",
      "X is {'M', 'A'} And Y is {'C', 'F', 'A', 'M'} - X issubset Y True\n"
     ]
    }
   ],
   "source": [
    "S = {\"a\", \"e\", \"o\", \"i\"}\n",
    "print(f\"set is {S}\")\n",
    "print(f\"type of S is {type(S)}\")\n",
    "print(f\"len of S is {len(S)}\")\n",
    "print(f\"u in S ? {\"u\" in S}\")\n",
    "S.add(\"u\")\n",
    "print(f\"add u in S ? {S}\")\n",
    "S.add(\"a\")\n",
    "print(f\"add another a to S ? {S} one a is in S\")\n",
    "S.remove(\"i\")\n",
    "print(f\"remove i in S ? {S}\")\n",
    "C = S.copy()\n",
    "print(f\"make a copy from S : C is {C} and S is {S} location not important in set\")\n",
    "print(f\"C = S ? {C == S}\")\n",
    "\n",
    "X = {1, 5,8, 9, 12, 10}\n",
    "Y = {8, 10}\n",
    "print (f\"x is {X} and y is {Y} - Is y intersection x ? {X.intersection(Y)}\")\n",
    "print (f\"x is {X} and y is {Y} - Is y & x ? {X & Y}\")\n",
    "print (f\"x is {X} and y is {Y} - Is y union x ? {X.union(Y)}\")\n",
    "print (f\"x is {X} and y is {Y} - Is y | x ? {X | Y}\")\n",
    "print (f\"x is {X} and y is {Y} - Is y difference x ? {X.difference(Y)}\")\n",
    "\n",
    "X = {'A', 'M'}\n",
    "Y = {'A','C','M','F'}\n",
    "print(f\"X is {X} And Y is {Y} - X issubset Y {X.issubset(Y)}\") \n",
    "\n",
    "\n"
   ]
  },
  {
   "cell_type": "markdown",
   "id": "b2d6c788",
   "metadata": {},
   "source": [
    "## Function"
   ]
  },
  {
   "cell_type": "code",
   "execution_count": null,
   "id": "99df453a",
   "metadata": {},
   "outputs": [
    {
     "name": "stdout",
     "output_type": "stream",
     "text": [
      "def f is\n",
      "Mohsen Mohebbi\n",
      "def f1 is Mohsen Mohebbi\n",
      "MOHSEN\n",
      "f3 Return(min) is 23.9\n",
      "f4 is : 100.81\n",
      "7\n",
      "3\n",
      "print x : 3 with global can change value out of function\n",
      "add more is\n",
      "34\n",
      "f6 is    ali.reza\n",
      "f6 is    ali/reza/sara\n",
      "----- function f7() -----\n",
      " a = 3   and type   <class 'int'>\n",
      " b = 4   and type   <class 'int'>\n",
      " c = (7, 1, 6)   and type   <class 'tuple'>\n",
      " d = {'x': 5, 'y': 7, 'z': 9}   and type   <class 'dict'>\n",
      "----------------------------------\n",
      "[('b', 2), ('e', 2), ('h', 2), ('i', 1), ('m', 2), ('n', 1), ('o', 2), ('s', 1)]\n",
      "unique list is [8, 1, 2, 3, 5, 9, 7]\n",
      "other way unique list is {1, 2, 3, 5, 7, 8, 9}\n"
     ]
    }
   ],
   "source": [
    "def f():\n",
    "    print(\"Mohsen Mohebbi\")\n",
    "\n",
    "\n",
    "def f1():\n",
    "    return\"Mohsen Mohebbi\"\n",
    "\n",
    "print(f\"def f is\")\n",
    "f()\n",
    "print(f\"def f1 is {f1()}\")\n",
    "\n",
    "def f2(name):\n",
    "    print(name)\n",
    "f2(\"MOHSEN\")\n",
    "\n",
    "def f3(x: float, y: float) -> float:\n",
    "    \"\"\"\n",
    "    f3() is max Number  \n",
    "    x : A Number  \n",
    "    y : A number  \n",
    "    return : A number  \n",
    "    \"\"\"\n",
    "    if x < y:\n",
    "        return y\n",
    "    else:\n",
    "        return x\n",
    "print (f\"f3 Return(min) is {f3(8.2,23.9)}\")\n",
    "\n",
    "def f4(x : float, y : float, z : float) -> float:\n",
    "    \"\"\"\n",
    "    Use a Function in Function   \n",
    "    x : A Number  \n",
    "    y : A Number  \n",
    "    z : A Number  \n",
    "    return : Max(x, y , z)  \n",
    "    Fisrt find Max (y, z) and second Max (x, max(y, z))\n",
    "    \"\"\"\n",
    "    return f3(x, f3(y,z))\n",
    "print(f\"f4 is : {f4(20.1, 100.81, 15.3)}\")\n",
    "\n",
    "x = 7\n",
    "def f5():\n",
    "    global x # change vale out of function\n",
    "    print(x)\n",
    "    x = 3\n",
    "    print(x)\n",
    "f5()\n",
    "print(f\"print x : {x} with global can change value out of function\" )\n",
    "\n",
    "def add_more(a, b, *c):\n",
    "    print(a + b + sum(c))\n",
    "print(\"add more is\")\n",
    "add_more(5, 2, 7, 8, 12)\n",
    "\n",
    "def f6(*x, y=\".\"):\n",
    "    return y.join(x)\n",
    "print(f\"f6 is    {f6(\"ali\", \"reza\")}\")\n",
    "print(f\"f6 is    {f6(\"ali\", \"reza\", \"sara\", y=\"/\")}\")\n",
    "\n",
    "def f7(a : int, b : int, *c : int, **d : dict)-> {int, int, tuple, dict}:\n",
    "    \"\"\"\n",
    "    a : 1st value  \n",
    "    b : 2nd value\n",
    "    c : Then before B until we get the variable name.\n",
    "    d : Variables specified as a dictionary  \n",
    "    \"\"\"\n",
    "    print(\"----- function f7() -----\")\n",
    "    print(f\" a = {a}   and type   {type(a)}\")\n",
    "    print(f\" b = {b}   and type   {type(b)}\")\n",
    "    print(f\" c = {c}   and type   {type(c)}\")\n",
    "    print(f\" d = {d}   and type   {type(d)}\")\n",
    "    print(\"----------------------------------\")\n",
    "\n",
    "f7(3, 4, 7, 1, 6, x=5, y=7, z=9)\n",
    "\n",
    "import operator\n",
    "v = operator.itemgetter(0) # setting sort by items = 1 or keys 0\n",
    "\n",
    "def count_char(s : str)->dict:\n",
    "    \"\"\"\n",
    "    count_char    \n",
    "    s : A srting  \n",
    "    return : each character with count repeat    \n",
    "    give a string and craete a dict and Counts characters    \n",
    "    \"\"\"\n",
    "    d = {}\n",
    "    for i in s:\n",
    "        if i in d.keys():\n",
    "            d[i] += 1\n",
    "        else:\n",
    "            d[i] = 1\n",
    "    return sorted(d.items(),key = v)\n",
    "print(count_char(\"mohsenmohebbi\"))\n",
    "\n",
    "# find uniqe value \n",
    "def unique_list(lst):\n",
    "    r = []\n",
    "    for i in lst:\n",
    "        if i not in r:\n",
    "            r.append(i)\n",
    "    return r\n",
    "a = [8, 1, 2, 3, 1, 5, 3, 9, 1, 7, 8]\n",
    "print(f\"unique list is {unique_list(a)}\")\n",
    "# or\n",
    "def  unique_list2(lst): \n",
    "    return set(lst)\n",
    "print(f\"other way unique list is {unique_list2(a)}\")\n"
   ]
  },
  {
   "cell_type": "code",
   "execution_count": 1,
   "id": "6e253f65",
   "metadata": {},
   "outputs": [
    {
     "name": "stdout",
     "output_type": "stream",
     "text": [
      "{'S': <class 'str'>, 'a': <class 'dict'>, 'return': {<class 'str'>, <class 'dict'>}}\n",
      "\n",
      "Description about function   \n",
      "fun : aaaaa    \n",
      "S : A srting\n",
      "return: A string  \n",
      "print S \n",
      "\n",
      "\n"
     ]
    }
   ],
   "source": [
    "def fun(S : str, a : dict) -> {str, dict}:\n",
    "    \"\"\"\n",
    "    Description about function   \n",
    "    fun : aaaaa    \n",
    "    S : A srting\n",
    "    return: A string  \n",
    "    print S \n",
    "\n",
    "    \"\"\"\n",
    "    return S , a\n",
    "\n",
    "print(fun.__annotations__)\n",
    "print(fun.__doc__)\n"
   ]
  },
  {
   "cell_type": "markdown",
   "id": "7120676e",
   "metadata": {},
   "source": [
    "recursive Function"
   ]
  },
  {
   "cell_type": "code",
   "execution_count": 26,
   "id": "87fd9704",
   "metadata": {},
   "outputs": [
    {
     "name": "stdout",
     "output_type": "stream",
     "text": [
      "19\n"
     ]
    }
   ],
   "source": [
    "# recursive Function\n",
    "def fac_rec(n):\n",
    "    if n == 1:\n",
    "        return 1\n",
    "    else:\n",
    "        return n * fac_rec(n-1)\n",
    "fac_rec(8)\n",
    "\n",
    "def f_rec(n,base):\n",
    "    s = \"0123456789ABCDEF\"\n",
    "    if n < base:\n",
    "        return s[n]\n",
    "    else:\n",
    "        return f_rec(n//base, base) + s[n % base]\n",
    "print(f_rec(25,16))\n",
    "\n"
   ]
  },
  {
   "cell_type": "code",
   "execution_count": 32,
   "id": "4934ef6c",
   "metadata": {},
   "outputs": [
    {
     "name": "stdout",
     "output_type": "stream",
     "text": [
      "4\n",
      "1\n",
      "False\n"
     ]
    }
   ],
   "source": [
    "def binary_search(lst: list, x:int, start = 0, end = None):\n",
    "    \"\"\"\n",
    "    binary_search : Search a Number in a list   \n",
    "    lst: is a List   \n",
    "    x: My Number   \n",
    "    start: in the first is\n",
    "    end: in the first is\n",
    "    \"\"\"\n",
    "    if end is None:\n",
    "        end = len(lst) - 1\n",
    "    if start > end :\n",
    "        return False\n",
    "    mid = (start + end) // 2\n",
    "    if x == lst[mid]:\n",
    "        return mid\n",
    "    if x < lst[mid]:\n",
    "        return binary_search(lst, x, start, mid-1)\n",
    "    return binary_search(lst, x, start+1 , end)\n",
    "\n",
    "lst = [2, 4, 7, 12, 19, 25, 38]\n",
    "print(binary_search(lst, 19))\n",
    "print(binary_search(lst, 4))\n",
    "print(binary_search(lst, 20))\n"
   ]
  },
  {
   "cell_type": "markdown",
   "id": "b8b3dfcf",
   "metadata": {},
   "source": [
    "Lambda"
   ]
  },
  {
   "cell_type": "code",
   "execution_count": 36,
   "id": "3b0cd7e8",
   "metadata": {},
   "outputs": [
    {
     "name": "stdout",
     "output_type": "stream",
     "text": [
      "Lambda add 16\n",
      "lambda f (9, 7)\n"
     ]
    }
   ],
   "source": [
    "add = lambda x, y : x * y\n",
    "print(f\"Lambda add {add(2,8)}\")\n",
    "\n",
    "f = lambda x, y: (x+y , x-y)\n",
    "print(f\"lambda f {f(8,1)}\")"
   ]
  },
  {
   "cell_type": "markdown",
   "id": "b2444ebc",
   "metadata": {},
   "source": [
    "map"
   ]
  },
  {
   "cell_type": "code",
   "execution_count": 49,
   "id": "e0ea5a30",
   "metadata": {},
   "outputs": [
    {
     "name": "stdout",
     "output_type": "stream",
     "text": [
      "['ali', 'reza']\n",
      "['ali', 'reza']\n",
      "[('mahsa', 15), ('sara', 20)]\n",
      "[('mahsa', 15), ('sara', 20)]\n",
      "[5, 9]\n",
      "[False, True, False, True]\n",
      "[7, 6]\n",
      "[16, 7, 14, 6]\n"
     ]
    }
   ],
   "source": [
    "lst = [\"ALI\", \"REZA\"]\n",
    "a = []\n",
    "for i in lst:\n",
    "    x = i.lower()\n",
    "    a.append(x)\n",
    "print(a)\n",
    "\n",
    "print(list(map(str.lower, lst)))\n",
    "\n",
    "name = [\"mahsa\", \"sara\"]\n",
    "year = [15, 20]\n",
    "print(list(zip(name,year)))\n",
    "print(list(map(lambda x, y : (x,y) , name, year)))\n",
    "\n",
    "a = [1, 2]\n",
    "b = [4, 7]\n",
    "print(list(map(lambda x,y : x+y , a, b)))\n",
    "\n",
    "a = [16, 7, 14, 6]\n",
    "print(list(map(lambda x : x < 10, a)))\n",
    "print(list(filter(lambda x : x < 10, a)))\n",
    "\n",
    "print(list(filter(None, a)))\n"
   ]
  }
 ],
 "metadata": {
  "kernelspec": {
   "display_name": "Python 3",
   "language": "python",
   "name": "python3"
  },
  "language_info": {
   "codemirror_mode": {
    "name": "ipython",
    "version": 3
   },
   "file_extension": ".py",
   "mimetype": "text/x-python",
   "name": "python",
   "nbconvert_exporter": "python",
   "pygments_lexer": "ipython3",
   "version": "3.13.2"
  }
 },
 "nbformat": 4,
 "nbformat_minor": 5
}
