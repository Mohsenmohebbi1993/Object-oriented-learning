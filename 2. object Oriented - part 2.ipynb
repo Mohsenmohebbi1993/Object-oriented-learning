{
 "cells": [
  {
   "cell_type": "markdown",
   "id": "ea5d496a",
   "metadata": {},
   "source": [
    "# Part 2 Basic\n",
    "1. Collections   \n"
   ]
  },
  {
   "cell_type": "markdown",
   "id": "7e7a2246",
   "metadata": {},
   "source": [
    "# set"
   ]
  },
  {
   "cell_type": "code",
   "execution_count": null,
   "id": "b8c171d5",
   "metadata": {},
   "outputs": [
    {
     "name": "stdout",
     "output_type": "stream",
     "text": [
      "set is {'i', 'a', 'e', 'o'}\n",
      "type of S is <class 'set'>\n",
      "len of S is 4\n",
      "u in S ? False\n",
      "add u in S ? {'e', 'i', 'a', 'u', 'o'}\n",
      "add another a to S ? {'e', 'i', 'a', 'u', 'o'} one a is in S\n",
      "remove i in S ? {'e', 'a', 'u', 'o'}\n",
      "make a copy from S : C is {'u', 'a', 'e', 'o'} and S is {'e', 'a', 'u', 'o'} location not important in set\n",
      "C = S ? True\n"
     ]
    }
   ],
   "source": [
    "S = {\"a\", \"e\", \"o\", \"i\"}\n",
    "print(f\"set is {S}\")\n",
    "print(f\"type of S is {type(S)}\")\n",
    "print(f\"len of S is {len(S)}\")\n",
    "print(f\"u in S ? {\"u\" in S}\")\n",
    "S.add(\"u\")\n",
    "print(f\"add u in S ? {S}\")\n",
    "S.add(\"a\")\n",
    "print(f\"add another a to S ? {S} one a is in S\")\n",
    "S.remove(\"i\")\n",
    "print(f\"remove i in S ? {S}\")\n",
    "C = S.copy()\n",
    "print(f\"make a copy from S : C is {C} and S is {S} location not important in set\")\n",
    "print(f\"C = S ? {C == S}\")\n",
    "\n"
   ]
  }
 ],
 "metadata": {
  "kernelspec": {
   "display_name": "Python 3",
   "language": "python",
   "name": "python3"
  },
  "language_info": {
   "codemirror_mode": {
    "name": "ipython",
    "version": 3
   },
   "file_extension": ".py",
   "mimetype": "text/x-python",
   "name": "python",
   "nbconvert_exporter": "python",
   "pygments_lexer": "ipython3",
   "version": "3.13.2"
  }
 },
 "nbformat": 4,
 "nbformat_minor": 5
}
